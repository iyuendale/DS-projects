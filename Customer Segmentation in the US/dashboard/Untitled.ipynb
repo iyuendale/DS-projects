{
 "cells": [
  {
   "cell_type": "markdown",
   "id": "5710c52a-d31c-428b-bc79-4a7cd3088e4a",
   "metadata": {},
   "source": [
    "# How to create a beautiful, interactive dashboard layout in Python with Plotly Dash"
   ]
  },
  {
   "cell_type": "code",
   "execution_count": 15,
   "id": "189cda7c-b9ee-4c25-a28e-b8b3c458aba4",
   "metadata": {},
   "outputs": [],
   "source": [
    "import display_sample"
   ]
  },
  {
   "cell_type": "code",
   "execution_count": 16,
   "id": "cd43167c-b191-4972-b81f-06824a0e3883",
   "metadata": {},
   "outputs": [
    {
     "data": {
      "text/html": [
       "\n",
       "        <iframe\n",
       "            width=\"100%\"\n",
       "            height=\"650\"\n",
       "            src=\"http://127.0.0.1:8050/\"\n",
       "            frameborder=\"0\"\n",
       "            allowfullscreen\n",
       "            \n",
       "        ></iframe>\n",
       "        "
      ],
      "text/plain": [
       "<IPython.lib.display.IFrame at 0x14da9328860>"
      ]
     },
     "metadata": {},
     "output_type": "display_data"
    }
   ],
   "source": [
    "app = display_sample.app\n",
    "app.run_server(mode= \"external\")"
   ]
  },
  {
   "cell_type": "code",
   "execution_count": 17,
   "id": "850d9f74-19ef-45cf-8839-f31696b05961",
   "metadata": {},
   "outputs": [],
   "source": [
    "from dash import Dash, html, dcc\n",
    "import dash_bootstrap_components as dbc\n",
    "from jupyter_dash import JupyterDash\n",
    "import plotly.graph_objects as go\n",
    "import numpy as np\n",
    "import random"
   ]
  },
  {
   "cell_type": "code",
   "execution_count": 5,
   "id": "6ad5e398-b499-431f-806e-a7bca8e04de7",
   "metadata": {},
   "outputs": [],
   "source": [
    "%load_ext autoreload\n",
    "%autoreload 2"
   ]
  },
  {
   "cell_type": "markdown",
   "id": "1026e77e-1e01-4299-81d0-3211799f6f55",
   "metadata": {},
   "source": [
    "* 'Dash' to launch the application\n",
    "* 'HTML' elements to develop the dashboard structure\n",
    "* 'Dash Core Componenets (dcc)' store ready-set interactivity elements such as graphs, dropdowns, buttons, or temporary storages.\n",
    "* 'Dash Bootstrap Components (dbc)' a more effective substitute for HTML and DCC elements, and even for CSS file."
   ]
  },
  {
   "cell_type": "markdown",
   "id": "a8f1f5c5-4f7b-42ca-af8b-442255e0a2ef",
   "metadata": {},
   "source": [
    "#### Launching the application"
   ]
  },
  {
   "cell_type": "code",
   "execution_count": 18,
   "id": "fa065800-0e0d-4780-91ec-57a8c062c591",
   "metadata": {},
   "outputs": [
    {
     "data": {
      "text/html": [
       "\n",
       "        <iframe\n",
       "            width=\"100%\"\n",
       "            height=\"650\"\n",
       "            src=\"http://127.0.0.1:8050/\"\n",
       "            frameborder=\"0\"\n",
       "            allowfullscreen\n",
       "            \n",
       "        ></iframe>\n",
       "        "
      ],
      "text/plain": [
       "<IPython.lib.display.IFrame at 0x14dad388920>"
      ]
     },
     "metadata": {},
     "output_type": "display_data"
    }
   ],
   "source": [
    "app = Dash(external_stylesheets= [dbc.themes.FLATLY])\n",
    "\n",
    "# app.layout = html.Div()\n",
    "# app.layout = dbc.Container(html.P(\"My awesome dashboard will be here.\",\n",
    "#                                   style= {\"color\": \"#010103\"}),\n",
    "#                            fluid= True,\n",
    "#                            className= \"dashboard-container\",\n",
    "#                            style= {\n",
    "#                                \"background-color\": \"#ffffff\",\n",
    "#                                \"border-color\": \"#010103\"\n",
    "#                            }\n",
    "#                           )\n",
    "\n",
    "\n",
    "# graph\n",
    "fig = go.Figure(\n",
    "    go.Scattergl(x= np.random.randn(1000),\n",
    "                 y= np.random.randn(1000),\n",
    "                 mode= \"markers\",\n",
    "                 marker= dict(\n",
    "                     color= random.sample([\"#ecf0f1\"] * 500 +\n",
    "                                          [\"#3498db\"] * 500, 1000),\n",
    "                     line_width= 1)\n",
    "                ))\n",
    "\n",
    "fig.update_layout(plot_bgcolor= \"#010103\",\n",
    "                  width= 790,\n",
    "                  height= 730,\n",
    "                  xaxis_visible= False,\n",
    "                  yaxis_visible= False,\n",
    "                  showlegend= False,\n",
    "                  margin= dict(l= 0, r= 0, t= 0, b= 0))\n",
    "\n",
    "app.layout = dbc.Container([\n",
    "    html.Div(\n",
    "        [\n",
    "            # The \"welcome\" and description container\n",
    "            html.Div([\n",
    "                html.H1([\n",
    "                    html.Span(\"Welcome\"),\n",
    "                    html.Br(),\n",
    "                    html.Span(\"to my beautiful dashboard!\")\n",
    "                ]),\n",
    "                html.P(\"This dashboard prototype shows how to create an effective layout.\")\n",
    "            ],\n",
    "                style= {\n",
    "                    \"vertical-alignment\": \"top\",\n",
    "                    \"height\": 260\n",
    "                }),\n",
    "            # the buttons container\n",
    "            html.Div([\n",
    "                # Graph and Table buttons\n",
    "                html.Div(dbc.RadioItems(\n",
    "                    className= \"btn-group\",\n",
    "                    inputClassName= \"btn-check\",\n",
    "                    labelClassName= \"btn btn-outline-light\",\n",
    "                    labelCheckedClassName= \"btn btn-light\",\n",
    "                    options= [\n",
    "                        {\"label\": \"Graph\", \"value\": 1},\n",
    "                        {\"label\": \"Table\", \"value\": 2}\n",
    "                    ],\n",
    "                    value= 1,\n",
    "                    style= {\"width\": \"100%\"},\n",
    "                ),\n",
    "                    style= {\"width\": 206}),\n",
    "                # About button\n",
    "                html.Div(dbc.Button(\n",
    "                    \"About\",\n",
    "                    className= \"btn btn-info\",\n",
    "                    n_clicks= 0\n",
    "                ),\n",
    "                    style= {\"width\": 104})\n",
    "            ],\n",
    "            style= {\n",
    "                \"margin-left\": 15,\n",
    "                \"margin-right\": 15,\n",
    "                \"display\": \"flex\"\n",
    "            }),\n",
    "            # a group of three dropdowns\n",
    "            html.Div([\n",
    "                html.Div([html.H2(\"Unclearable Dropdown:\"),\n",
    "                          dcc.Dropdown(\n",
    "                              options= [\n",
    "                                  {\"label\": \"Option A\", \"value\": 1},\n",
    "                                  {\"label\": \"Option B\", \"value\": 2},\n",
    "                                  {\"label\": \"Option C\", \"value\": 3},\n",
    "                              ],\n",
    "                              value= 1,\n",
    "                              clearable= False,\n",
    "                              optionHeight= 40,\n",
    "                              className= \"customDropdown\"\n",
    "                          )]),\n",
    "                html.Div([html.H2(\"Unclearable Dropdown:\"),\n",
    "                          dcc.Dropdown(\n",
    "                              options= [\n",
    "                                  {\"label\": \"Option A\", \"value\": 1},\n",
    "                                  {\"label\": \"Option B\", \"value\": 2},\n",
    "                                  {\"label\": \"Option C\", \"value\": 3},\n",
    "                              ],\n",
    "                              value= 2,\n",
    "                              clearable= False,\n",
    "                              optionHeight= 40,\n",
    "                              className= \"customDropdown\"\n",
    "                          )]),\n",
    "                html.Div([html.H2(\"Clearable Dropdown:\"),\n",
    "                          dcc.Dropdown(\n",
    "                              options= [\n",
    "                                  {\"label\": \"Option A\", \"value\": 1},\n",
    "                                  {\"label\": \"Option B\", \"value\": 2},\n",
    "                                  {\"label\": \"Option C\", \"value\": 3},\n",
    "                              ],\n",
    "                              clearable= True,\n",
    "                              optionHeight= 40,\n",
    "                              className= \"customDropdown\"\n",
    "                          )])\n",
    "            ],\n",
    "                style= {\n",
    "                    \"margin-left\": 15,\n",
    "                    \"margin-right\": 15,\n",
    "                    \"margin-top\": 30\n",
    "                }),\n",
    "            # image\n",
    "            html.Div(\n",
    "                html.Img(src= \"assets/R.jfif\",\n",
    "                    style= {\n",
    "                        \"margin-left\": 15,\n",
    "                        \"margin-right\": 15,\n",
    "                        \"margin-top\": 30,\n",
    "                        \"width\": 310,\n",
    "                        \"height\": 200\n",
    "                    })\n",
    "            ),\n",
    "        ],\n",
    "        style= {\n",
    "            \"width\": 340,   ###\n",
    "            \"margin-left\": 35,\n",
    "            \"margin-top\": 35,\n",
    "            \"margin-bottom\": 35\n",
    "        }),\n",
    "\n",
    "    # second container\n",
    "    html.Div(\n",
    "        [\n",
    "            # graph\n",
    "            html.Div(dcc.Graph(figure= fig), style= {\"width\": 790}),\n",
    "            # output\n",
    "            html.Div([\n",
    "                html.H2(\"Output 1:\"),\n",
    "                html.Div(className= \"Output\"),\n",
    "                html.H2(\"Output 2:\"),\n",
    "                html.Div(html.H3(\"Selected Values\"), className= \"Output\")\n",
    "            ],\n",
    "                style= {\"width\": 200}),\n",
    "        ],\n",
    "        style= {\n",
    "            \"width\": 990,\n",
    "            \"margin-right\": 35,\n",
    "            \"margin-top\": 35,\n",
    "            \"margin-bottom\": 35,\n",
    "            \"display\": \"flex\"\n",
    "        })\n",
    "],\n",
    "   fluid= True,\n",
    "   className= \"dashboard-container\",\n",
    "   style= {\"display\": \"flex\"}\n",
    ")\n",
    "\n",
    "if __name__ == \"__main__\":\n",
    "    app.run_server(mode= \"jupyterlab\", debug= True)"
   ]
  },
  {
   "cell_type": "markdown",
   "id": "7985ce3b-8735-4866-bbcb-efa8163db3b3",
   "metadata": {},
   "source": [
    "#### Creating the dashboard body"
   ]
  }
 ],
 "metadata": {
  "kernelspec": {
   "display_name": "Python 3 (ipykernel)",
   "language": "python",
   "name": "python3"
  },
  "language_info": {
   "codemirror_mode": {
    "name": "ipython",
    "version": 3
   },
   "file_extension": ".py",
   "mimetype": "text/x-python",
   "name": "python",
   "nbconvert_exporter": "python",
   "pygments_lexer": "ipython3",
   "version": "3.12.3"
  }
 },
 "nbformat": 4,
 "nbformat_minor": 5
}
